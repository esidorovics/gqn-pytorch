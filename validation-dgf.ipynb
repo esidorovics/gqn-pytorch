{
 "cells": [
  {
   "cell_type": "markdown",
   "metadata": {},
   "source": [
    "# GQN With DGF - Pool Representation and 8 Generative Steps"
   ]
  },
  {
   "cell_type": "code",
   "execution_count": null,
   "metadata": {},
   "outputs": [],
   "source": [
    "import pandas as pd\n",
    "import matplotlib.pyplot as plt\n",
    "from gqn import GenerativeQueryNetwork, partition\n",
    "from dataset import GQN_Dataset\n",
    "from torch.distributions import Normal\n",
    "import shutil\n",
    "import os\n",
    "import numpy as np\n",
    "import cv2\n",
    "import torch\n",
    "import glob"
   ]
  },
  {
   "cell_type": "code",
   "execution_count": null,
   "metadata": {},
   "outputs": [],
   "source": [
    "df = pd.read_csv(\"main.log\")\n",
    "print(\"Total steps: {}\".format(df[\"step\"].tolist()[-1]))\n",
    "models = glob.glob(\"checkpoints/checkpoint_model_*.pth\")\n",
    "models.sort(key=lambda x: os.path.getmtime(x))\n",
    "print(\"Last model checkpoint: {}\".format(models[-1]))"
   ]
  },
  {
   "cell_type": "code",
   "execution_count": null,
   "metadata": {},
   "outputs": [],
   "source": [
    "df = df[df[\"step\"]>100]\n",
    "step = df[\"step\"].to_list()\n",
    "ll = df[\"ll\"].to_list()\n",
    "kl = df[\"kl\"].to_list()\n",
    "elbo = df['elbo'].to_list()\n",
    "sigma = df['sigma'].to_list()\n",
    "mu = df['mu'].to_list()\n",
    "kl_av = []\n",
    "ll_av = []\n",
    "elbo_av = []\n",
    "\n",
    "average_step = 100\n",
    "for i in range(average_step, len(step)):\n",
    "    kl_av.append(sum(kl[i-average_step:i])/average_step)\n",
    "    ll_av.append(sum(ll[i-average_step:i])/average_step)\n",
    "    elbo_av.append(sum(elbo[i-average_step:i])/average_step)\n",
    "step = step[average_step:]\n",
    "sigma = sigma[average_step:]\n",
    "mu =mu[average_step:]\n",
    "\n",
    "plt.figure(num=None, figsize=(18, 12))\n",
    "plt.subplot(231)\n",
    "plt.plot(step, elbo_av)\n",
    "plt.subplot(232)\n",
    "plt.plot(step, ll_av)\n",
    "plt.subplot(233)\n",
    "plt.plot(step, kl_av)\n",
    "\n",
    "plt.subplot(234)\n",
    "plt.plot(step, mu)\n",
    "plt.subplot(235)\n",
    "plt.plot(step, sigma)\n",
    "plt.show()"
   ]
  },
  {
   "cell_type": "code",
   "execution_count": null,
   "metadata": {
    "scrolled": false
   },
   "outputs": [],
   "source": [
    "valid_dataset = GQN_Dataset(root_dir=\"data/rooms_ring_camera/\", train=False)\n",
    "x, v = valid_dataset[1]\n",
    "x = x.view((1, *x.shape))\n",
    "v = v.view((1, *v.shape))\n",
    "\n",
    "max_m=5\n",
    "x, v, x_q, v_q = partition(x, v, max_m, 5)\n",
    "batch, *_ = x.shape\n",
    "print(x.shape)\n",
    "print(v.shape)\n",
    "print(x_q.shape)\n",
    "device = torch.device(\"cpu\")\n",
    "model = GenerativeQueryNetwork(x_dim=3, v_dim=7, r_dim=256, h_dim=128, dgf_dim=256, z_dim=64, L=8, pool=True).to(device)\n",
    "checkpoint = torch.load(models[-1])\n",
    "# checkpoint = torch.load(\"./checkpoints/checkpoint_model_50000.pth\") #\n",
    "# checkpoint = torch.load(\"./chkpnts/checkpoint_model_500000.pth\") #\n",
    "model.load_state_dict(checkpoint)\n",
    "\n",
    "x_mu = model.sample(x, v, v_q)\n",
    "# x_mu, r, kl = model(x, v, x_q, v_q)\n",
    "x_mu = x_mu.detach().cpu().numpy()\n",
    "x = x.numpy()\n",
    "x_q = x_q.numpy()\n",
    "\n",
    "x = np.moveaxis(x, [2, 3, 4], [-1, 2, 3])\n",
    "x_q = np.moveaxis(x_q, [1, 2, 3], [-1, -3, -2])\n",
    "x_mu = np.moveaxis(x_mu, [1, 2, 3], [-1, -3, -2])\n",
    "\n",
    "n = 30\n",
    "for i in range(n):\n",
    "    full = np.concatenate(x[i], axis=1)\n",
    "    space = np.ones(shape=(full.shape[0], 10, 3))\n",
    "    full = np.concatenate([full, space, x_mu[i], space, x_q[i]], axis=1)\n",
    "    plt.figure(num=None, figsize=(18, 6))\n",
    "    plt.imshow(full)\n",
    "    plt.show()\n",
    "\n"
   ]
  },
  {
   "cell_type": "code",
   "execution_count": null,
   "metadata": {},
   "outputs": [],
   "source": []
  },
  {
   "cell_type": "code",
   "execution_count": null,
   "metadata": {},
   "outputs": [],
   "source": [
    "device = torch.device(\"cpu\")\n",
    "model1 = GenerativeQueryNetwork(x_dim=3, v_dim=7, r_dim=256, h_dim=128, dgf_dim=256, z_dim=64, L=8, pool=True).to(device)\n",
    "model2 = GenerativeQueryNetwork(x_dim=3, v_dim=7, r_dim=256, h_dim=128, dgf_dim=256, z_dim=64, L=8, pool=True).to(device)\n",
    "\n",
    "# checkpoint = torch.load(models[-1])\n",
    "checkpoint1 = torch.load(\"checkpoints/checkpoint_model_30000.pth\") #\n",
    "checkpoint2 = torch.load(\"checkpoints/checkpoint_model_10000.pth\") #\n",
    "model1.load_state_dict(checkpoint1)\n",
    "model2.load_state_dict(checkpoint2)\n",
    "\n",
    "i1 = model1.input_layer.weight.data\n",
    "i2 = model1.input_layer.weight.data\n",
    "print(torch.sum(i1))\n",
    "print(torch.sum(i2))\n",
    "print(i1-i2)\n",
    "\n",
    "o1 = model1.output_layer.weight.data\n",
    "o2 = model1.output_layer.weight.data\n",
    "print(torch.sum(o1))\n",
    "print(torch.sum(o2))\n",
    "print(o1-o2)\n"
   ]
  },
  {
   "cell_type": "code",
   "execution_count": null,
   "metadata": {},
   "outputs": [],
   "source": []
  }
 ],
 "metadata": {
  "kernelspec": {
   "display_name": "Python 3",
   "language": "python",
   "name": "python3"
  },
  "language_info": {
   "codemirror_mode": {
    "name": "ipython",
    "version": 3
   },
   "file_extension": ".py",
   "mimetype": "text/x-python",
   "name": "python",
   "nbconvert_exporter": "python",
   "pygments_lexer": "ipython3",
   "version": "3.6.8"
  }
 },
 "nbformat": 4,
 "nbformat_minor": 2
}
