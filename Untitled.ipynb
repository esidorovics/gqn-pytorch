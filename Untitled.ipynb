{
 "cells": [
  {
   "cell_type": "code",
   "execution_count": null,
   "metadata": {},
   "outputs": [],
   "source": [
    "from gqn import GenerativeQueryNetwork, partition, Annealer\n",
    "from dataset import GQN_Dataset\n",
    "from torch.distributions import Normal\n",
    "import shutil\n",
    "import os\n",
    "import numpy as np\n",
    "import cv2\n",
    "import torch\n",
    "\n",
    "%matplotlib inline\n",
    "from IPython.display import display, HTML\n",
    "import matplotlib.pyplot as plt"
   ]
  },
  {
   "cell_type": "code",
   "execution_count": null,
   "metadata": {},
   "outputs": [],
   "source": [
    "device = torch.device(\"cpu\")\n",
    "model = GenerativeQueryNetwork(x_dim=3, v_dim=7, r_dim=256, h_dim=128, z_dim=64, L=6).to(device)\n",
    "checkpoint = torch.load(\"./checkpoints/checkpoint_model_140000.pth\")\n",
    "# checkpoint = torch.load(\"./chkpnts/checkpoint_model_3000.pth\")\n",
    "model.load_state_dict(checkpoint)"
   ]
  },
  {
   "cell_type": "code",
   "execution_count": null,
   "metadata": {},
   "outputs": [],
   "source": [
    "valid_dataset = GQN_Dataset(root_dir=\"/media/data/gqn-dataset/rooms_ring_camera/\", train=False)\n",
    "x, v = valid_dataset[-1]\n",
    "x = x.view((1, *x.shape))\n",
    "v = v.view((1, *v.shape))\n",
    "\n",
    "max_m=5\n",
    "x, v, x_q, v_q = partition(x, v, max_m, 5)\n",
    "batch, n_context, *_ = x.shape"
   ]
  },
  {
   "cell_type": "code",
   "execution_count": null,
   "metadata": {},
   "outputs": [],
   "source": [
    "i=7\n",
    "x.shape\n",
    "for j in range(n_context):\n",
    "    _img = x[i, j].numpy()\n",
    "    _img = np.moveaxis(_img, [0, 1, 2], [-1, 0, 1])\n",
    "    plt.subplot(2, n_context, j+1)\n",
    "    plt.imshow(_img)\n",
    "plt.show()"
   ]
  },
  {
   "cell_type": "code",
   "execution_count": null,
   "metadata": {},
   "outputs": [],
   "source": [
    "y = x[i]\n",
    "y = y.view((1, *y.shape))\n",
    "y = y.repeat(36, 1, 1, 1, 1)\n",
    "y_v = v[i]\n",
    "y_v = y_v.view((1, *y_v.shape))\n",
    "y_v = y_v.repeat(36, 1, 1)\n",
    "coord1, coord2, coord3, _, _, p1, p2 = v_q[i]\n",
    "#x, y, z, torch.cos(y), torch.sin(y), torch.cos(p), torch.sin(p)\n",
    "for j in range(36):\n",
    "    v_q[j] = torch.FloatTensor([coord1, coord2, coord3, np.cos(0.2*j), np.sin(0.2*j), p1, p2])\n",
    "\n",
    "print(y.shape)\n",
    "print(y_v.shape)\n",
    "print(v_q.shape)"
   ]
  },
  {
   "cell_type": "code",
   "execution_count": null,
   "metadata": {},
   "outputs": [],
   "source": [
    "x_mu = model.sample(y, y_v, v_q)"
   ]
  },
  {
   "cell_type": "code",
   "execution_count": null,
   "metadata": {
    "scrolled": false
   },
   "outputs": [],
   "source": [
    "for j in range(36):\n",
    "    _img = x_mu[j].detach().numpy()\n",
    "    _img = np.moveaxis(_img, [0, 1, 2], [-1, 0, 1])\n",
    "#     plt.figure(figsize=(10,10))\n",
    "    plt.imshow(_img)\n",
    "    plt.show()"
   ]
  },
  {
   "cell_type": "code",
   "execution_count": null,
   "metadata": {},
   "outputs": [],
   "source": [
    "print(x_mu.shape)"
   ]
  },
  {
   "cell_type": "code",
   "execution_count": null,
   "metadata": {},
   "outputs": [],
   "source": [
    "i=4\n",
    "j=1\n",
    "for j in range(n_context):\n",
    "    _img = y[i, j].numpy().astype(np.uint8)\n",
    "    _img = np.moveaxis(_img, [0, 1, 2], [-1, 0, 1])\n",
    "    plt.subplot(2, n_context, j+1)\n",
    "    plt.imshow(_img)\n",
    "plt.show()"
   ]
  },
  {
   "cell_type": "code",
   "execution_count": null,
   "metadata": {},
   "outputs": [],
   "source": [
    "print(y_v[0])\n",
    "print(y_v[1])\n",
    "print(y_v[2])\n",
    "print(y_v[3])"
   ]
  },
  {
   "cell_type": "code",
   "execution_count": null,
   "metadata": {},
   "outputs": [],
   "source": [
    "print(v_q[0])\n",
    "print(v_q[1])\n",
    "print(v_q[2])\n",
    "print(v_q[3])"
   ]
  },
  {
   "cell_type": "code",
   "execution_count": null,
   "metadata": {},
   "outputs": [],
   "source": [
    "j=7\n",
    "_img = x_q[j].detach().numpy().astype(np.uint8)\n",
    "_img = np.moveaxis(_img, [0, 1, 2], [-1, 0, 1])\n",
    "plt.imshow(_img)\n"
   ]
  },
  {
   "cell_type": "code",
   "execution_count": null,
   "metadata": {},
   "outputs": [],
   "source": []
  }
 ],
 "metadata": {
  "kernelspec": {
   "display_name": "Python 3",
   "language": "python",
   "name": "python3"
  },
  "language_info": {
   "codemirror_mode": {
    "name": "ipython",
    "version": 3
   },
   "file_extension": ".py",
   "mimetype": "text/x-python",
   "name": "python",
   "nbconvert_exporter": "python",
   "pygments_lexer": "ipython3",
   "version": "3.6.8"
  }
 },
 "nbformat": 4,
 "nbformat_minor": 2
}
